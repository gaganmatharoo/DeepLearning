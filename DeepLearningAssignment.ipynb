{
 "cells": [
  {
   "cell_type": "code",
   "execution_count": 1,
   "metadata": {},
   "outputs": [],
   "source": [
    "import pickle"
   ]
  },
  {
   "cell_type": "markdown",
   "metadata": {},
   "source": [
    "#### Loading the data"
   ]
  },
  {
   "cell_type": "code",
   "execution_count": 6,
   "metadata": {},
   "outputs": [],
   "source": [
    "datax = open(\"trainX.pickle\", 'rb')\n",
    "X_train = pickle.load(datax)\n",
    "datax.close()\n",
    "\n",
    "datay = open(\"trainY.pickle\", 'rb')\n",
    "Y_train = pickle.load(datay)\n",
    "datay.close()\n",
    "\n",
    "datat = open(\"testX.pickle\", 'rb')\n",
    "X_test = pickle.load(datat)\n",
    "datat.close()"
   ]
  },
  {
   "cell_type": "code",
   "execution_count": 7,
   "metadata": {
    "collapsed": true
   },
   "outputs": [
    {
     "data": {
      "image/png": "[encoded data removed]",
      "text/plain": [
       "<Figure size 72x72 with 1 Axes>"
      ]
     },
     "metadata": {
      "needs_background": "light"
     },
     "output_type": "display_data"
    },
    {
     "name": "stdout",
     "output_type": "stream",
     "text": [
      "9\n"
     ]
    },
    {
     "data": {
      "image/png": "[encoded data removed]",
      "text/plain": [
       "<Figure size 72x72 with 1 Axes>"
      ]
     },
     "metadata": {
      "needs_background": "light"
     },
     "output_type": "display_data"
    },
    {
     "name": "stdout",
     "output_type": "stream",
     "text": [
      "0\n"
     ]
    },
    {
     "data": {
      "image/png": "[encoded data removed]",
      "text/plain": [
       "<Figure size 72x72 with 1 Axes>"
      ]
     },
     "metadata": {
      "needs_background": "light"
     },
     "output_type": "display_data"
    },
    {
     "name": "stdout",
     "output_type": "stream",
     "text": [
      "0\n"
     ]
    },
    {
     "data": {
      "image/png": "[encoded data removed]",
      "text/plain": [
       "<Figure size 72x72 with 1 Axes>"
      ]
     },
     "metadata": {
      "needs_background": "light"
     },
     "output_type": "display_data"
    },
    {
     "name": "stdout",
     "output_type": "stream",
     "text": [
      "3\n"
     ]
    },
    {
     "data": {
      "image/png": "[encoded data removed]",
      "text/plain": [
       "<Figure size 72x72 with 1 Axes>"
      ]
     },
     "metadata": {
      "needs_background": "light"
     },
     "output_type": "display_data"
    },
    {
     "name": "stdout",
     "output_type": "stream",
     "text": [
      "0\n"
     ]
    },
    {
     "data": {
      "image/png": "[encoded data removed]",
      "text/plain": [
       "<Figure size 72x72 with 1 Axes>"
      ]
     },
     "metadata": {
      "needs_background": "light"
     },
     "output_type": "display_data"
    },
    {
     "name": "stdout",
     "output_type": "stream",
     "text": [
      "2\n"
     ]
    },
    {
     "data": {
      "image/png": "[encoded data removed]",
      "text/plain": [
       "<Figure size 72x72 with 1 Axes>"
      ]
     },
     "metadata": {
      "needs_background": "light"
     },
     "output_type": "display_data"
    },
    {
     "name": "stdout",
     "output_type": "stream",
     "text": [
      "7\n"
     ]
    },
    {
     "data": {
      "image/png": "[encoded data removed]",
      "text/plain": [
       "<Figure size 72x72 with 1 Axes>"
      ]
     },
     "metadata": {
      "needs_background": "light"
     },
     "output_type": "display_data"
    },
    {
     "name": "stdout",
     "output_type": "stream",
     "text": [
      "2\n"
     ]
    },
    {
     "data": {
      "image/png": "[encoded data removed]",
      "text/plain": [
       "<Figure size 72x72 with 1 Axes>"
      ]
     },
     "metadata": {
      "needs_background": "light"
     },
     "output_type": "display_data"
    },
    {
     "name": "stdout",
     "output_type": "stream",
     "text": [
      "5\n"
     ]
    },
    {
     "data": {
      "image/png": "[encoded data removed]",
      "text/plain": [
       "<Figure size 72x72 with 1 Axes>"
      ]
     },
     "metadata": {
      "needs_background": "light"
     },
     "output_type": "display_data"
    },
    {
     "name": "stdout",
     "output_type": "stream",
     "text": [
      "5\n"
     ]
    }
   ],
   "source": [
    "import matplotlib.pyplot as plt\n",
    "\n",
    "for x in range(10):\n",
    "    plt.figure(figsize=(1,1))\n",
    "    plt.imshow(X_train[x], cmap=plt.cm.binary)\n",
    "    plt.show()\n",
    "    print(Y_train[x])"
   ]
  },
  {
   "cell_type": "markdown",
   "metadata": {},
   "source": [
    "### dummy testing of the model"
   ]
  },
  {
   "cell_type": "code",
   "execution_count": 8,
   "metadata": {},
   "outputs": [],
   "source": [
    "from sklearn.model_selection import train_test_split\n",
    "x_train, x_test, y_train, y_test = train_test_split(X_train, Y_train, test_size=0.1, random_state=1)"
   ]
  },
  {
   "cell_type": "code",
   "execution_count": 9,
   "metadata": {},
   "outputs": [],
   "source": [
    "import tensorflow as tf\n",
    "\n",
    "x_train = tf.keras.utils.normalize(x_train, axis=1)\n",
    "x_test = tf.keras.utils.normalize(x_test, axis=1)"
   ]
  },
  {
   "cell_type": "code",
   "execution_count": 12,
   "metadata": {
    "scrolled": true
   },
   "outputs": [
    {
     "name": "stderr",
     "output_type": "stream",
     "text": [
      "WARNING: Logging before flag parsing goes to stderr.\n",
      "W0622 12:11:25.330174  4780 deprecation.py:506] From c:\\users\\dell pc\\appdata\\local\\programs\\python\\python36\\lib\\site-packages\\tensorflow\\python\\ops\\init_ops.py:1251: calling VarianceScaling.__init__ (from tensorflow.python.ops.init_ops) with dtype is deprecated and will be removed in a future version.\n",
      "Instructions for updating:\n",
      "Call initializer instance with the dtype argument instead of passing it to the constructor\n"
     ]
    },
    {
     "name": "stdout",
     "output_type": "stream",
     "text": [
      "Epoch 1/50\n",
      "54000/54000 [==============================] - 6s 120us/sample - loss: 0.4933 - acc: 0.8197\n",
      "Epoch 2/50\n",
      "54000/54000 [==============================] - 6s 106us/sample - loss: 0.3611 - acc: 0.8663\n",
      "Epoch 3/50\n",
      "54000/54000 [==============================] - 6s 107us/sample - loss: 0.3237 - acc: 0.8787\n",
      "Epoch 4/50\n",
      "54000/54000 [==============================] - 6s 107us/sample - loss: 0.2986 - acc: 0.8880\n",
      "Epoch 5/50\n",
      "54000/54000 [==============================] - 6s 106us/sample - loss: 0.2808 - acc: 0.8932\n",
      "Epoch 6/50\n",
      "54000/54000 [==============================] - 6s 108us/sample - loss: 0.2634 - acc: 0.9006\n",
      "Epoch 7/50\n",
      "54000/54000 [==============================] - 6s 108us/sample - loss: 0.2495 - acc: 0.9057\n",
      "Epoch 8/50\n",
      "54000/54000 [==============================] - 6s 107us/sample - loss: 0.2379 - acc: 0.9096\n",
      "Epoch 9/50\n",
      "54000/54000 [==============================] - 6s 109us/sample - loss: 0.2255 - acc: 0.9140\n",
      "Epoch 10/50\n",
      "54000/54000 [==============================] - 6s 111us/sample - loss: 0.2141 - acc: 0.9186\n",
      "Epoch 11/50\n",
      "54000/54000 [==============================] - 6s 109us/sample - loss: 0.2069 - acc: 0.9206\n",
      "Epoch 12/50\n",
      "54000/54000 [==============================] - 6s 107us/sample - loss: 0.1962 - acc: 0.9259\n",
      "Epoch 13/50\n",
      "54000/54000 [==============================] - 6s 104us/sample - loss: 0.1901 - acc: 0.9285\n",
      "Epoch 14/50\n",
      "54000/54000 [==============================] - 6s 104us/sample - loss: 0.1819 - acc: 0.9307\n",
      "Epoch 15/50\n",
      "54000/54000 [==============================] - 6s 104us/sample - loss: 0.1758 - acc: 0.9329\n",
      "Epoch 16/50\n",
      "54000/54000 [==============================] - 6s 105us/sample - loss: 0.1658 - acc: 0.9361\n",
      "Epoch 17/50\n",
      "54000/54000 [==============================] - 6s 103us/sample - loss: 0.1607 - acc: 0.9388\n",
      "Epoch 18/50\n",
      "54000/54000 [==============================] - 6s 110us/sample - loss: 0.1550 - acc: 0.9419\n",
      "Epoch 19/50\n",
      "54000/54000 [==============================] - 6s 107us/sample - loss: 0.1489 - acc: 0.9429\n",
      "Epoch 20/50\n",
      "54000/54000 [==============================] - 6s 106us/sample - loss: 0.1417 - acc: 0.9457\n",
      "Epoch 21/50\n",
      "54000/54000 [==============================] - 6s 107us/sample - loss: 0.1386 - acc: 0.9468\n",
      "Epoch 22/50\n",
      "54000/54000 [==============================] - 6s 115us/sample - loss: 0.1322 - acc: 0.9499\n",
      "Epoch 23/50\n",
      "54000/54000 [==============================] - 6s 115us/sample - loss: 0.1281 - acc: 0.9508\n",
      "Epoch 24/50\n",
      "54000/54000 [==============================] - 6s 111us/sample - loss: 0.1230 - acc: 0.9536\n",
      "Epoch 25/50\n",
      "54000/54000 [==============================] - 6s 109us/sample - loss: 0.1211 - acc: 0.9546\n",
      "Epoch 26/50\n",
      "54000/54000 [==============================] - 6s 102us/sample - loss: 0.1147 - acc: 0.9565\n",
      "Epoch 27/50\n",
      "54000/54000 [==============================] - 6s 102us/sample - loss: 0.1095 - acc: 0.9581\n",
      "Epoch 28/50\n",
      "54000/54000 [==============================] - 6s 118us/sample - loss: 0.1082 - acc: 0.9598\n",
      "Epoch 29/50\n",
      "54000/54000 [==============================] - 6s 105us/sample - loss: 0.1027 - acc: 0.9609\n",
      "Epoch 30/50\n",
      "54000/54000 [==============================] - 6s 105us/sample - loss: 0.0997 - acc: 0.9614\n",
      "Epoch 31/50\n",
      "54000/54000 [==============================] - 6s 107us/sample - loss: 0.0955 - acc: 0.9636\n",
      "Epoch 32/50\n",
      "54000/54000 [==============================] - 6s 105us/sample - loss: 0.0944 - acc: 0.9640\n",
      "Epoch 33/50\n",
      "54000/54000 [==============================] - 6s 103us/sample - loss: 0.0913 - acc: 0.9657\n",
      "Epoch 34/50\n",
      "54000/54000 [==============================] - 6s 103us/sample - loss: 0.0905 - acc: 0.9660\n",
      "Epoch 35/50\n",
      "54000/54000 [==============================] - 6s 109us/sample - loss: 0.0862 - acc: 0.9681\n",
      "Epoch 36/50\n",
      "54000/54000 [==============================] - 6s 105us/sample - loss: 0.0848 - acc: 0.9674\n",
      "Epoch 37/50\n",
      "54000/54000 [==============================] - 6s 103us/sample - loss: 0.0796 - acc: 0.9694\n",
      "Epoch 38/50\n",
      "54000/54000 [==============================] - 6s 102us/sample - loss: 0.0797 - acc: 0.9691\n",
      "Epoch 39/50\n",
      "54000/54000 [==============================] - 6s 110us/sample - loss: 0.0762 - acc: 0.9707\n",
      "Epoch 40/50\n",
      "54000/54000 [==============================] - 7s 127us/sample - loss: 0.0778 - acc: 0.9703\n",
      "Epoch 41/50\n",
      "54000/54000 [==============================] - 6s 103us/sample - loss: 0.0715 - acc: 0.9725\n",
      "Epoch 42/50\n",
      "54000/54000 [==============================] - 6s 106us/sample - loss: 0.0721 - acc: 0.9726\n",
      "Epoch 43/50\n",
      "54000/54000 [==============================] - 6s 113us/sample - loss: 0.0688 - acc: 0.9737\n",
      "Epoch 44/50\n",
      "54000/54000 [==============================] - 6s 110us/sample - loss: 0.0700 - acc: 0.9735\n",
      "Epoch 45/50\n",
      "54000/54000 [==============================] - 6s 103us/sample - loss: 0.0675 - acc: 0.9746\n",
      "Epoch 46/50\n",
      "54000/54000 [==============================] - 6s 104us/sample - loss: 0.0604 - acc: 0.9775\n",
      "Epoch 47/50\n",
      "54000/54000 [==============================] - 6s 103us/sample - loss: 0.0632 - acc: 0.9754\n",
      "Epoch 48/50\n",
      "54000/54000 [==============================] - 6s 104us/sample - loss: 0.0637 - acc: 0.9760\n",
      "Epoch 49/50\n",
      "54000/54000 [==============================] - 6s 103us/sample - loss: 0.0611 - acc: 0.9773\n",
      "Epoch 50/50\n",
      "54000/54000 [==============================] - 6s 103us/sample - loss: 0.0601 - acc: 0.9780\n"
     ]
    },
    {
     "data": {
      "text/plain": [
       "<tensorflow.python.keras.callbacks.History at 0x20b2744c160>"
      ]
     },
     "execution_count": 12,
     "metadata": {},
     "output_type": "execute_result"
    }
   ],
   "source": [
    "model = tf.keras.models.Sequential()\n",
    "model.add(tf.keras.layers.Flatten())\n",
    "model.add(tf.keras.layers.Dense(128, activation=tf.nn.relu))\n",
    "model.add(tf.keras.layers.Dense(128, activation=tf.nn.relu))\n",
    "model.add(tf.keras.layers.Dense(10, activation=tf.nn.softmax))\n",
    "\n",
    "model.compile(optimizer='adam',\n",
    "             loss='sparse_categorical_crossentropy',\n",
    "             metrics=['accuracy'])\n",
    "\n",
    "model.fit(x_train, y_train, epochs=50)"
   ]
  },
  {
   "cell_type": "code",
   "execution_count": 14,
   "metadata": {},
   "outputs": [
    {
     "name": "stdout",
     "output_type": "stream",
     "text": [
      "6000/6000 [==============================] - 0s 54us/sample - loss: 0.6646 - acc: 0.8873\n",
      "Value Loss:  0.6645864844520887\n",
      "Accuracy:  0.88733333\n"
     ]
    }
   ],
   "source": [
    "val_loss, val_acc = model.evaluate(x_test, y_test)\n",
    "print(\"Value Loss: \", val_loss)\n",
    "print(\"Accuracy: \", val_acc)"
   ]
  },
  {
   "cell_type": "code",
   "execution_count": 15,
   "metadata": {},
   "outputs": [
    {
     "name": "stdout",
     "output_type": "stream",
     "text": [
      "0\n"
     ]
    }
   ],
   "source": [
    "predictions = model.predict([x_test])\n",
    "\n",
    "import numpy as np\n",
    "\n",
    "print(np.argmax(predictions[1560]))"
   ]
  },
  {
   "cell_type": "code",
   "execution_count": 16,
   "metadata": {},
   "outputs": [
    {
     "name": "stdout",
     "output_type": "stream",
     "text": [
      "0\n"
     ]
    }
   ],
   "source": [
    "print(y_test[1560])"
   ]
  },
  {
   "cell_type": "markdown",
   "metadata": {},
   "source": [
    "### Actual training and prediction"
   ]
  },
  {
   "cell_type": "code",
   "execution_count": 18,
   "metadata": {},
   "outputs": [],
   "source": [
    "import tensorflow as tf\n",
    "\n",
    "X_train = tf.keras.utils.normalize(X_train, axis=1)\n",
    "X_test = tf.keras.utils.normalize(X_test, axis=1)"
   ]
  },
  {
   "cell_type": "code",
   "execution_count": 19,
   "metadata": {
    "scrolled": true
   },
   "outputs": [
    {
     "name": "stdout",
     "output_type": "stream",
     "text": [
      "Epoch 1/50\n",
      "60000/60000 [==============================] - 8s 129us/sample - loss: 0.4846 - acc: 0.8220\n",
      "Epoch 2/50\n",
      "60000/60000 [==============================] - 6s 106us/sample - loss: 0.3540 - acc: 0.8694\n",
      "Epoch 3/50\n",
      "60000/60000 [==============================] - 6s 106us/sample - loss: 0.3169 - acc: 0.8815\n",
      "Epoch 4/50\n",
      "60000/60000 [==============================] - 6s 108us/sample - loss: 0.2938 - acc: 0.8894\n",
      "Epoch 5/50\n",
      "60000/60000 [==============================] - 7s 110us/sample - loss: 0.2748 - acc: 0.8956\n",
      "Epoch 6/50\n",
      "60000/60000 [==============================] - 7s 113us/sample - loss: 0.2615 - acc: 0.9011\n",
      "Epoch 7/50\n",
      "60000/60000 [==============================] - 6s 106us/sample - loss: 0.2459 - acc: 0.9061\n",
      "Epoch 8/50\n",
      "60000/60000 [==============================] - 6s 104us/sample - loss: 0.2363 - acc: 0.9103\n",
      "Epoch 9/50\n",
      "60000/60000 [==============================] - 6s 104us/sample - loss: 0.2223 - acc: 0.9143\n",
      "Epoch 10/50\n",
      "60000/60000 [==============================] - 6s 104us/sample - loss: 0.2126 - acc: 0.9200\n",
      "Epoch 11/50\n",
      "60000/60000 [==============================] - 6s 105us/sample - loss: 0.2025 - acc: 0.9231\n",
      "Epoch 12/50\n",
      "60000/60000 [==============================] - 6s 104us/sample - loss: 0.1945 - acc: 0.9256\n",
      "Epoch 13/50\n",
      "60000/60000 [==============================] - 6s 105us/sample - loss: 0.1883 - acc: 0.9286\n",
      "Epoch 14/50\n",
      "60000/60000 [==============================] - 6s 104us/sample - loss: 0.1811 - acc: 0.9305\n",
      "Epoch 15/50\n",
      "60000/60000 [==============================] - 6s 105us/sample - loss: 0.1735 - acc: 0.9338\n",
      "Epoch 16/50\n",
      "60000/60000 [==============================] - 7s 114us/sample - loss: 0.1659 - acc: 0.9372\n",
      "Epoch 17/50\n",
      "60000/60000 [==============================] - 7s 109us/sample - loss: 0.1598 - acc: 0.9392\n",
      "Epoch 18/50\n",
      "60000/60000 [==============================] - 7s 122us/sample - loss: 0.1546 - acc: 0.9404\n",
      "Epoch 19/50\n",
      "60000/60000 [==============================] - 8s 125us/sample - loss: 0.1488 - acc: 0.9427\n",
      "Epoch 20/50\n",
      "60000/60000 [==============================] - 7s 124us/sample - loss: 0.1410 - acc: 0.9469\n",
      "Epoch 21/50\n",
      "60000/60000 [==============================] - 7s 118us/sample - loss: 0.1393 - acc: 0.9472\n",
      "Epoch 22/50\n",
      "60000/60000 [==============================] - 8s 131us/sample - loss: 0.1339 - acc: 0.9491\n",
      "Epoch 23/50\n",
      "60000/60000 [==============================] - 7s 120us/sample - loss: 0.1301 - acc: 0.9505\n",
      "Epoch 24/50\n",
      "60000/60000 [==============================] - 8s 127us/sample - loss: 0.1242 - acc: 0.9527\n",
      "Epoch 25/50\n",
      "60000/60000 [==============================] - 7s 120us/sample - loss: 0.1203 - acc: 0.9550\n",
      "Epoch 26/50\n",
      "60000/60000 [==============================] - 7s 122us/sample - loss: 0.1179 - acc: 0.9545\n",
      "Epoch 27/50\n",
      "60000/60000 [==============================] - 7s 123us/sample - loss: 0.1115 - acc: 0.9585\n",
      "Epoch 28/50\n",
      "60000/60000 [==============================] - 7s 115us/sample - loss: 0.1116 - acc: 0.9571\n",
      "Epoch 29/50\n",
      "60000/60000 [==============================] - 7s 112us/sample - loss: 0.1062 - acc: 0.9590\n",
      "Epoch 30/50\n",
      "60000/60000 [==============================] - 6s 107us/sample - loss: 0.1042 - acc: 0.9604\n",
      "Epoch 31/50\n",
      "60000/60000 [==============================] - 6s 105us/sample - loss: 0.1018 - acc: 0.9622\n",
      "Epoch 32/50\n",
      "60000/60000 [==============================] - 6s 105us/sample - loss: 0.0982 - acc: 0.9634\n",
      "Epoch 33/50\n",
      "60000/60000 [==============================] - 6s 105us/sample - loss: 0.0929 - acc: 0.9651\n",
      "Epoch 34/50\n",
      "60000/60000 [==============================] - 6s 106us/sample - loss: 0.0904 - acc: 0.9655\n",
      "Epoch 35/50\n",
      "60000/60000 [==============================] - 7s 111us/sample - loss: 0.0901 - acc: 0.9654\n",
      "Epoch 36/50\n",
      "60000/60000 [==============================] - 6s 105us/sample - loss: 0.0872 - acc: 0.9672\n",
      "Epoch 37/50\n",
      "60000/60000 [==============================] - 6s 108us/sample - loss: 0.0856 - acc: 0.9667\n",
      "Epoch 38/50\n",
      "60000/60000 [==============================] - 6s 104us/sample - loss: 0.0802 - acc: 0.9692\n",
      "Epoch 39/50\n",
      "60000/60000 [==============================] - 6s 105us/sample - loss: 0.0799 - acc: 0.9700\n",
      "Epoch 40/50\n",
      "60000/60000 [==============================] - 7s 115us/sample - loss: 0.0762 - acc: 0.9706\n",
      "Epoch 41/50\n",
      "60000/60000 [==============================] - 7s 125us/sample - loss: 0.0772 - acc: 0.9709\n",
      "Epoch 42/50\n",
      "60000/60000 [==============================] - 6s 105us/sample - loss: 0.0750 - acc: 0.9718\n",
      "Epoch 43/50\n",
      "60000/60000 [==============================] - 6s 107us/sample - loss: 0.0715 - acc: 0.9731\n",
      "Epoch 44/50\n",
      "60000/60000 [==============================] - 6s 107us/sample - loss: 0.0698 - acc: 0.9725\n",
      "Epoch 45/50\n",
      "60000/60000 [==============================] - 7s 108us/sample - loss: 0.0704 - acc: 0.9730\n",
      "Epoch 46/50\n",
      "60000/60000 [==============================] - 7s 113us/sample - loss: 0.0659 - acc: 0.9754\n",
      "Epoch 47/50\n",
      "60000/60000 [==============================] - 7s 117us/sample - loss: 0.0692 - acc: 0.9733\n",
      "Epoch 48/50\n",
      "60000/60000 [==============================] - 7s 109us/sample - loss: 0.0657 - acc: 0.9752\n",
      "Epoch 49/50\n",
      "60000/60000 [==============================] - 7s 108us/sample - loss: 0.0624 - acc: 0.9774\n",
      "Epoch 50/50\n",
      "60000/60000 [==============================] - 6s 104us/sample - loss: 0.0618 - acc: 0.9765\n"
     ]
    },
    {
     "data": {
      "text/plain": [
       "<tensorflow.python.keras.callbacks.History at 0x20b1c272390>"
      ]
     },
     "execution_count": 19,
     "metadata": {},
     "output_type": "execute_result"
    }
   ],
   "source": [
    "new_model = tf.keras.models.Sequential()\n",
    "new_model.add(tf.keras.layers.Flatten())\n",
    "new_model.add(tf.keras.layers.Dense(128, activation=tf.nn.relu))\n",
    "new_model.add(tf.keras.layers.Dense(128, activation=tf.nn.relu))\n",
    "new_model.add(tf.keras.layers.Dense(10, activation=tf.nn.softmax))\n",
    "\n",
    "new_model.compile(optimizer='adam',\n",
    "             loss='sparse_categorical_crossentropy',\n",
    "             metrics=['accuracy'])\n",
    "\n",
    "new_model.fit(X_train, Y_train, epochs=50)"
   ]
  },
  {
   "cell_type": "code",
   "execution_count": 20,
   "metadata": {},
   "outputs": [],
   "source": [
    "predictions = new_model.predict([X_test])"
   ]
  },
  {
   "cell_type": "code",
   "execution_count": 22,
   "metadata": {},
   "outputs": [],
   "source": [
    "import pickle\n",
    "\n",
    "outfile = open(\"Y_pred.pickle\", 'wb')\n",
    "pickle.dump(predictions, outfile)\n",
    "outfile.close()"
   ]
  },
  {
   "cell_type": "code",
   "execution_count": 23,
   "metadata": {},
   "outputs": [],
   "source": [
    "infile = open(\"Y_pred.pickle\", 'rb')\n",
    "new = pickle.load(infile)\n",
    "infile.close()"
   ]
  },
  {
   "cell_type": "code",
   "execution_count": 24,
   "metadata": {},
   "outputs": [
    {
     "data": {
      "text/plain": [
       "numpy.ndarray"
      ]
     },
     "execution_count": 24,
     "metadata": {},
     "output_type": "execute_result"
    }
   ],
   "source": [
    "type(new)"
   ]
  },
  {
   "cell_type": "code",
   "execution_count": null,
   "metadata": {},
   "outputs": [],
   "source": []
  },
  {
   "cell_type": "code",
   "execution_count": 25,
   "metadata": {},
   "outputs": [],
   "source": [
    "#Submitted by:-\n",
    "#Gagandeep Kaur\n",
    "#B. tech.\n",
    "#Guru Nanak Dev University, Amritsar"
   ]
  }
 ],
 "metadata": {
  "kernelspec": {
   "display_name": "Python 3",
   "language": "python",
   "name": "python3"
  },
  "language_info": {
   "codemirror_mode": {
    "name": "ipython",
    "version": 3
   },
   "file_extension": ".py",
   "mimetype": "text/x-python",
   "name": "python",
   "nbconvert_exporter": "python",
   "pygments_lexer": "ipython3",
   "version": "3.6.0b4"
  }
 },
 "nbformat": 4,
 "nbformat_minor": 2
}
